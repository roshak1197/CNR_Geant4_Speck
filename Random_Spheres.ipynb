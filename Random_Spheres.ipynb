{
 "cells": [
  {
   "cell_type": "code",
   "execution_count": 5,
   "metadata": {},
   "outputs": [
    {
     "data": {
      "text/plain": [
       "125164"
      ]
     },
     "execution_count": 5,
     "metadata": {},
     "output_type": "execute_result"
    }
   ],
   "source": [
    "import random\n",
    "import numpy as np\n",
    "sphere_diameter_mm = 0.166\n",
    "# Dimensions of the box in mm\n",
    "box_length_cm = sphere_diameter_mm*256\n",
    "box_width_cm = sphere_diameter_mm*256\n",
    "box_height_cm = sphere_diameter_mm#*256\n",
    "\n",
    "\n",
    "sphere_radius_mm = sphere_diameter_mm / 2\n",
    "\n",
    "# Convert dimensions to millimeters for uniformity\n",
    "box_length_mm = box_length_cm #* 10\n",
    "box_width_mm = box_width_cm #* 10\n",
    "box_height_mm = box_height_cm #* 10\n",
    "\n",
    "# Calculate the volume of the box\n",
    "box_volume_mm3 = box_length_mm * box_width_mm * box_height_mm\n",
    "\n",
    "# Calculate the volume of one sphere using the formula for the volume of a sphere (V = 4/3 * π * r^3)\n",
    "sphere_volume_mm3 = (4/3) * np.pi * (sphere_radius_mm ** 3)\n",
    "\n",
    "# Estimate the number of spheres that can fit inside the box (packing efficiency not considered)\n",
    "estimated_num_spheres = int(box_volume_mm3 / sphere_volume_mm3)\n",
    "\n",
    "# List to store the coordinates of each sphere\n",
    "sphere_coordinates = []\n",
    "\n",
    "def is_overlapping(new_coord, existing_coords, radius):\n",
    "    for coord in existing_coords:\n",
    "        distance = np.sqrt((new_coord[0] - coord[0]) ** 2 +\n",
    "                             (new_coord[1] - coord[1]) ** 2 +\n",
    "                             (new_coord[2] - coord[2]) ** 2)\n",
    "        if distance < 2 * radius:\n",
    "            return True\n",
    "    return False\n",
    "estimated_num_spheres"
   ]
  },
  {
   "cell_type": "code",
   "execution_count": 6,
   "metadata": {},
   "outputs": [
    {
     "name": "stdout",
     "output_type": "stream",
     "text": [
      "Coordinates of 300000 spheres have been written to random_sphere_coordinates.txt\n"
     ]
    }
   ],
   "source": [
    "while len(sphere_coordinates) < 300000:\n",
    "    x = random.uniform(sphere_radius_mm, box_length_mm - sphere_radius_mm)- box_length_cm/2\n",
    "    y = random.uniform(sphere_radius_mm, box_width_mm - sphere_radius_mm)- box_width_cm/2\n",
    "    z = random.uniform(sphere_radius_mm, box_height_mm - sphere_radius_mm) #-box_height_cm/2\n",
    "    new_coord = (x, y, z)\n",
    "    #if not is_overlapping(new_coord, sphere_coordinates, sphere_radius_mm):\n",
    "    sphere_coordinates.append(new_coord)\n",
    "\n",
    "# Write the coordinates to a .txt file\n",
    "with open(\"166_um_Coord1.txt\", \"w\") as file:\n",
    "    for coord in sphere_coordinates:\n",
    "        file.write(f\"{coord[0]} {coord[1]} {coord[2]}\\n\")\n",
    "\n",
    "print(f\"Coordinates of {len(sphere_coordinates)} spheres have been written to random_sphere_coordinates.txt\")"
   ]
  },
  {
   "cell_type": "code",
   "execution_count": null,
   "metadata": {},
   "outputs": [],
   "source": []
  }
 ],
 "metadata": {
  "kernelspec": {
   "display_name": "Python 3",
   "language": "python",
   "name": "python3"
  },
  "language_info": {
   "codemirror_mode": {
    "name": "ipython",
    "version": 3
   },
   "file_extension": ".py",
   "mimetype": "text/x-python",
   "name": "python",
   "nbconvert_exporter": "python",
   "pygments_lexer": "ipython3",
   "version": "3.8.10"
  }
 },
 "nbformat": 4,
 "nbformat_minor": 2
}
